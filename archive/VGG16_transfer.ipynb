{
  "nbformat": 4,
  "nbformat_minor": 0,
  "metadata": {
    "colab": {
      "provenance": []
    },
    "kernelspec": {
      "name": "python3",
      "display_name": "Python 3"
    },
    "language_info": {
      "name": "python"
    }
  },
  "cells": [
    {
      "cell_type": "code",
      "execution_count": 1,
      "metadata": {
        "id": "i94FKemTItqm"
      },
      "outputs": [],
      "source": [
        "!mkdir -p ~/.kaggle\n",
        "!cp kaggle.json ~/.kaggle/"
      ]
    },
    {
      "cell_type": "code",
      "source": [
        "!kaggle datasets download -d vipoooool/new-plant-diseases-dataset"
      ],
      "metadata": {
        "colab": {
          "base_uri": "https://localhost:8080/"
        },
        "id": "ILL1KSSHI0ui",
        "outputId": "d2c9dc4e-809d-4c99-a8c5-0070245df49c"
      },
      "execution_count": 2,
      "outputs": [
        {
          "output_type": "stream",
          "name": "stdout",
          "text": [
            "Warning: Your Kaggle API key is readable by other users on this system! To fix this, you can run 'chmod 600 /root/.kaggle/kaggle.json'\n",
            "Downloading new-plant-diseases-dataset.zip to /content\n",
            "100% 2.69G/2.70G [00:31<00:00, 146MB/s]\n",
            "100% 2.70G/2.70G [00:31<00:00, 91.6MB/s]\n"
          ]
        }
      ]
    },
    {
      "cell_type": "code",
      "source": [
        "import zipfile\n",
        "\n",
        "zip_ref = zipfile.ZipFile('/content/new-plant-diseases-dataset.zip')\n",
        "zip_ref.extractall()\n",
        "zip_ref.close()"
      ],
      "metadata": {
        "id": "IIS5r_G7I6W2"
      },
      "execution_count": 3,
      "outputs": []
    },
    {
      "cell_type": "code",
      "source": [
        "import torch\n",
        "import torchvision.transforms as transforms\n",
        "from torchvision.datasets import ImageFolder\n",
        "from torch.utils.data import DataLoader, Subset\n",
        "import random\n",
        "random.seed(9)\n",
        "\n",
        "\n",
        "# Define transforms to be applied to the images\n",
        "transform = transforms.Compose([\n",
        "    transforms.Resize((224, 224)),  # Resize images to a fixed size\n",
        "    transforms.ToTensor(),           # Convert images to PyTorch tensors\n",
        "    transforms.Normalize(mean=[0.485, 0.456, 0.406], std=[0.229, 0.224, 0.225]),  # Normalize image data\n",
        "])\n",
        "\n",
        "# Paths to the directories containing training and validation data\n",
        "train_data_dir = '/content/New Plant Diseases Dataset(Augmented)/New Plant Diseases Dataset(Augmented)/train'\n",
        "val_data_dir = '/content/New Plant Diseases Dataset(Augmented)/New Plant Diseases Dataset(Augmented)/valid'\n",
        "test_data_dir = '/content/test'\n",
        "\n",
        "\n",
        "\n",
        "# Load the training dataset using ImageFolder\n",
        "train_full_dataset = ImageFolder(root=train_data_dir, transform=transform)\n",
        "print(f\"Full training size: {len(train_full_dataset.imgs)}\")\n",
        "\n",
        "# Load the validation dataset using ImageFolder\n",
        "val_full_dataset = ImageFolder(root=val_data_dir, transform=transform)\n",
        "\n",
        "# Load the validation dataset using ImageFolder\n",
        "test_dataset = ImageFolder(root=test_data_dir, transform=transform)\n",
        "\n",
        "\n",
        "def get_random_indices(full_dataset):\n",
        "    selected_indices = []\n",
        "\n",
        "    # Iterate over the classes in the dataset\n",
        "    for class_idx in range(len(full_dataset.classes)):\n",
        "        # Get the indices of images belonging to the current class\n",
        "        class_indices = [idx for idx, (_, label_idx) in enumerate(full_dataset.imgs) if label_idx == class_idx]\n",
        "        # Select a percentage of images from the current class\n",
        "        num_selected = int(len(class_indices) * 0.1)\n",
        "        selected_indices.extend(random.sample(class_indices, num_selected))\n",
        "\n",
        "    return selected_indices\n",
        "\n",
        "selected_train_indices = get_random_indices(train_full_dataset)\n",
        "selected_val_indices = get_random_indices(val_full_dataset)\n",
        "\n",
        "train_subset_dataset = Subset(train_full_dataset, selected_train_indices)\n",
        "val_subset_dataset = Subset(val_full_dataset, selected_val_indices)\n",
        "print(f\"Trimmed training size: {len(train_subset_dataset)}\")\n",
        "\n",
        "\n",
        "# Create DataLoaders\n",
        "batch_size = 96\n",
        "train_dataloader = DataLoader(train_subset_dataset, batch_size=batch_size, shuffle=True)\n",
        "val_dataloader = DataLoader(train_subset_dataset, batch_size=batch_size, shuffle=False)\n",
        "test_dataloader = DataLoader(test_dataset, batch_size=batch_size, shuffle=False)\n"
      ],
      "metadata": {
        "colab": {
          "base_uri": "https://localhost:8080/"
        },
        "id": "2x8M4RM-rlQ7",
        "outputId": "76a6082a-aad6-4e4a-e834-9e77d336a0b0"
      },
      "execution_count": 4,
      "outputs": [
        {
          "output_type": "stream",
          "name": "stdout",
          "text": [
            "Full training size: 70295\n",
            "Trimmed training size: 7013\n"
          ]
        }
      ]
    },
    {
      "cell_type": "code",
      "source": [
        "import os\n",
        "import cv2\n",
        "import json\n",
        "\n",
        "train_test_labels = {'AppleCedarRust': 'Apple___Cedar_apple_rust',\n",
        "                    'AppleScab': 'Apple___Apple_scab',\n",
        "                    'CornCommonRust': 'Corn_(maize)___Common_rust_',\n",
        "                    'PotatoEarlyBlight': 'Potato___Early_blight',\n",
        "                    'PotatoHealthy': 'Potato___healthy',\n",
        "                    'TomatoEarlyBlight': 'Tomato___Early_blight',\n",
        "                    'TomatoHealthy': 'Tomato___healthy',\n",
        "                    'TomatoYellowCurlVirus': 'Tomato___Tomato_Yellow_Leaf_Curl_Virus'\n",
        "                    }\n",
        "\n",
        "test_data_dir = '/content/test/test'\n",
        "\n",
        "# test_images = []\n",
        "test_labels = []\n",
        "for td in sorted(os.listdir(test_data_dir)):\n",
        "    # test_images.append(os.path.join(test_data_dir, td))\n",
        "    test_labels.append(train_test_labels[td[:-5]])\n",
        "\n",
        "\n",
        "# test_images = [cv2.resize(cv2.imread(x), (224, 224)) for x in test_images]\n",
        "# test_images = torch.stack([torch.tensor(x, dtype=torch.float32) for x in test_images])\n",
        "# test_images = torch.transpose(test_images, -1, -3)\n",
        "# normalize = transforms.Normalize(mean=[0.485, 0.456, 0.406], std=[0.229, 0.224, 0.225])\n",
        "# test_images = normalize(test_images)\n",
        "\n",
        "class_dict = {j: i for i, j in enumerate(train_full_dataset.classes)}\n",
        "test_labels = [class_dict[x] for x in test_labels]\n",
        "test_labels = torch.tensor(test_labels, dtype=torch.int64)\n",
        "\n",
        "\n",
        "with open('class_mapper.json', 'w') as json_file:\n",
        "    json.dump(class_dict, json_file)"
      ],
      "metadata": {
        "id": "aYPEUjhJXZ5k"
      },
      "execution_count": 5,
      "outputs": []
    },
    {
      "cell_type": "code",
      "source": [
        "import torch.nn as nn\n",
        "import torchvision.models as models\n",
        "\n",
        "device = 'cuda' if torch.cuda.is_available() else 'cpu'\n",
        "\n",
        "# Load the pre-trained VGG16 model\n",
        "vgg16 = models.vgg16(pretrained=True)\n",
        "\n",
        "# Freeze the parameters of the pre-trained layers\n",
        "for param in vgg16.parameters():\n",
        "    param.requires_grad = False\n",
        "\n",
        "# Modify the last fully connected layer for the number of classes in your dataset\n",
        "num_classes = len(train_full_dataset.classes)\n",
        "vgg16.classifier[-1] = nn.Linear(in_features=vgg16.classifier[-1].in_features, out_features=num_classes)\n",
        "vgg16 = vgg16.to(device)\n",
        "\n",
        "# Define the loss function and optimizer\n",
        "criterion = nn.CrossEntropyLoss()\n",
        "optimizer = torch.optim.AdamW(vgg16.parameters(), lr=1e-3)"
      ],
      "metadata": {
        "id": "oE_fOtRIw58u",
        "colab": {
          "base_uri": "https://localhost:8080/"
        },
        "outputId": "ace9443d-0361-4ee0-8517-25c83bc3010f"
      },
      "execution_count": 6,
      "outputs": [
        {
          "output_type": "stream",
          "name": "stderr",
          "text": [
            "/usr/local/lib/python3.10/dist-packages/torchvision/models/_utils.py:208: UserWarning: The parameter 'pretrained' is deprecated since 0.13 and may be removed in the future, please use 'weights' instead.\n",
            "  warnings.warn(\n",
            "/usr/local/lib/python3.10/dist-packages/torchvision/models/_utils.py:223: UserWarning: Arguments other than a weight enum or `None` for 'weights' are deprecated since 0.13 and may be removed in the future. The current behavior is equivalent to passing `weights=VGG16_Weights.IMAGENET1K_V1`. You can also use `weights=VGG16_Weights.DEFAULT` to get the most up-to-date weights.\n",
            "  warnings.warn(msg)\n",
            "Downloading: \"https://download.pytorch.org/models/vgg16-397923af.pth\" to /root/.cache/torch/hub/checkpoints/vgg16-397923af.pth\n",
            "100%|██████████| 528M/528M [00:04<00:00, 124MB/s] \n"
          ]
        }
      ]
    },
    {
      "cell_type": "code",
      "source": [
        "# # Train the model\n",
        "# num_epochs = 10\n",
        "# for epoch in range(num_epochs):\n",
        "#     vgg16.train()  # Set the model to train mode\n",
        "#     running_loss = 0.0\n",
        "#     for inputs, labels in train_dataloader:\n",
        "#         inputs, labels = inputs.to(device), labels.to(device)\n",
        "#         optimizer.zero_grad()\n",
        "#         outputs = vgg16(inputs)\n",
        "#         loss = criterion(outputs, labels)\n",
        "#         loss.backward()\n",
        "#         optimizer.step()\n",
        "#         running_loss += loss.item()\n",
        "#     print(f\"Epoch {epoch+1}/{num_epochs}, Loss: {running_loss/len(train_dataloader)}\")\n",
        "\n",
        "# # Validate the model\n",
        "# vgg16.eval()  # Set the model to evaluation mode\n",
        "# correct = 0\n",
        "# total = 0\n",
        "# with torch.no_grad():\n",
        "#     for inputs, labels in val_dataloader:\n",
        "#         inputs, labels = inputs.to(device), labels.to(device)\n",
        "#         outputs = vgg16(inputs)\n",
        "#         _, predicted = torch.max(outputs, 1)\n",
        "#         total += labels.size(0)\n",
        "#         correct += (predicted == labels).sum().item()\n",
        "\n",
        "# print(f\"Validation Accuracy: {100 * correct / total}%\")"
      ],
      "metadata": {
        "id": "F5sxlKO5tnsW"
      },
      "execution_count": 7,
      "outputs": []
    },
    {
      "cell_type": "code",
      "source": [
        "# Train the model\n",
        "import torch.nn.functional as F\n",
        "\n",
        "\n",
        "num_epochs = 10\n",
        "train_outs = []\n",
        "val_outs = []\n",
        "\n",
        "for epoch in range(num_epochs):\n",
        "    vgg16.train()\n",
        "    train_running_loss = 0.0\n",
        "    train_correct = 0\n",
        "    train_total = 0\n",
        "    for inputs, labels in train_dataloader:\n",
        "        inputs, labels = inputs.to(device), labels.to(device)\n",
        "        optimizer.zero_grad()\n",
        "        outputs = vgg16(inputs)\n",
        "        loss = criterion(outputs, labels)\n",
        "        predicted = torch.argmax(F.softmax(outputs, dim=1), dim=1)\n",
        "        train_total += labels.size(0)\n",
        "        train_correct += (predicted == labels).sum().item()\n",
        "        loss.backward()\n",
        "        optimizer.step()\n",
        "        train_running_loss += loss.item()\n",
        "    print(f\"Epoch {epoch+1}/{num_epochs}, Training Loss: {train_running_loss/len(train_dataloader):.04f}, Training Accuracy: {100 * train_correct / train_total:.02f}%\", end=\"\\t\")\n",
        "    train_outs.append((train_running_loss/len(train_dataloader), train_correct / train_total))\n",
        "\n",
        "    # Validate the model\n",
        "    vgg16.eval()\n",
        "    val_running_loss = 0.0\n",
        "    val_correct = 0\n",
        "    val_total = 0\n",
        "    with torch.no_grad():\n",
        "        for inputs, labels in val_dataloader:\n",
        "            inputs, labels = inputs.to(device), labels.to(device)\n",
        "            outputs = vgg16(inputs)\n",
        "            loss = criterion(outputs, labels)\n",
        "            val_running_loss += loss.item()\n",
        "            predicted = torch.argmax(F.softmax(outputs, dim=1), dim=1)\n",
        "            val_total += labels.size(0)\n",
        "            val_correct += (predicted == labels).sum().item()\n",
        "\n",
        "    print(f\"Validation Loss: {val_running_loss/len(val_dataloader):.04f}, Validation Accuracy: {100 * val_correct / val_total:.02f}%\")\n",
        "    val_outs.append((val_running_loss/len(val_dataloader), val_correct / val_total))"
      ],
      "metadata": {
        "id": "sUX9esVPwfHn",
        "colab": {
          "base_uri": "https://localhost:8080/"
        },
        "outputId": "9469a9e7-c2d7-4723-b20f-bd57e20f7407"
      },
      "execution_count": 9,
      "outputs": [
        {
          "output_type": "stream",
          "name": "stdout",
          "text": [
            "Epoch 1/10, Training Loss: 1.5488, Training Accuracy: 59.49%\tValidation Loss: 0.7488, Validation Accuracy: 82.79%\n",
            "Epoch 2/10, Training Loss: 0.7347, Training Accuracy: 78.85%\tValidation Loss: 0.5173, Validation Accuracy: 88.07%\n",
            "Epoch 3/10, Training Loss: 0.6045, Training Accuracy: 82.60%\tValidation Loss: 0.4061, Validation Accuracy: 90.80%\n",
            "Epoch 4/10, Training Loss: 0.5218, Training Accuracy: 84.04%\tValidation Loss: 0.3487, Validation Accuracy: 92.03%\n",
            "Epoch 5/10, Training Loss: 0.4849, Training Accuracy: 85.37%\tValidation Loss: 0.3036, Validation Accuracy: 93.10%\n",
            "Epoch 6/10, Training Loss: 0.4417, Training Accuracy: 86.10%\tValidation Loss: 0.2722, Validation Accuracy: 93.77%\n",
            "Epoch 7/10, Training Loss: 0.4161, Training Accuracy: 87.01%\tValidation Loss: 0.2466, Validation Accuracy: 94.52%\n",
            "Epoch 8/10, Training Loss: 0.3929, Training Accuracy: 87.37%\tValidation Loss: 0.2232, Validation Accuracy: 94.98%\n",
            "Epoch 9/10, Training Loss: 0.3771, Training Accuracy: 88.08%\tValidation Loss: 0.2039, Validation Accuracy: 95.81%\n",
            "Epoch 10/10, Training Loss: 0.3757, Training Accuracy: 88.21%\tValidation Loss: 0.1892, Validation Accuracy: 96.05%\n"
          ]
        }
      ]
    },
    {
      "cell_type": "code",
      "source": [
        "import matplotlib.pyplot as plt\n",
        "\n",
        "plt.figure(figsize=(12, 5))\n",
        "plt.subplot(1, 2, 1)\n",
        "plt.plot([x[0] for x in train_outs], label='Training')\n",
        "plt.plot([x[0] for x in val_outs], label='Validation')\n",
        "plt.title('Loss')\n",
        "plt.legend()\n",
        "plt.grid(alpha=0.5)\n",
        "\n",
        "plt.subplot(1, 2, 2)\n",
        "plt.plot([x[1] for x in train_outs], label='Training')\n",
        "plt.plot([x[1] for x in val_outs], label='Validation')\n",
        "plt.title('Accuracy')\n",
        "plt.legend()\n",
        "plt.grid(alpha=0.5)\n",
        "\n",
        "plt.tight_layout()\n",
        "plt.show()"
      ],
      "metadata": {
        "colab": {
          "base_uri": "https://localhost:8080/",
          "height": 507
        },
        "id": "NSnHZbYmpUny",
        "outputId": "65471435-eeb2-488c-ea00-7e22af01f85b"
      },
      "execution_count": 10,
      "outputs": [
        {
          "output_type": "display_data",
          "data": {
            "text/plain": [
              "<Figure size 1200x500 with 2 Axes>"
            ],
            "image/png": "[encoded data removed]"
          },
          "metadata": {}
        }
      ]
    },
    {
      "cell_type": "code",
      "source": [
        "# test_images, test_labels = test_images.to(device), test_labels.to(device)\n",
        "test_labels = test_labels.to(device)\n",
        "\n",
        "vgg16.eval()\n",
        "with torch.no_grad():\n",
        "    for input, labels in test_dataloader:\n",
        "        outputs = vgg16(input.to(device))\n",
        "        loss = criterion(outputs, test_labels)\n",
        "        predicted = torch.argmax(F.softmax(outputs, dim=1), dim=1)\n",
        "        accuracy = (predicted == test_labels).sum().item()\n",
        "        print(f\"Test Loss: {loss:.04f}, Test Accuracy: {100 * accuracy/test_labels.size(0):.02f}%\")"
      ],
      "metadata": {
        "colab": {
          "base_uri": "https://localhost:8080/"
        },
        "id": "wzNkpnbnoH5H",
        "outputId": "07dfaece-5a36-4fbc-e76e-c2b4ec3b893f"
      },
      "execution_count": 11,
      "outputs": [
        {
          "output_type": "stream",
          "name": "stdout",
          "text": [
            "Test Loss: 0.5976, Test Accuracy: 78.79%\n"
          ]
        }
      ]
    },
    {
      "cell_type": "code",
      "source": [
        "torch.save(vgg16.state_dict(), 'VGG16_transfer_learning_model.pth')"
      ],
      "metadata": {
        "id": "-wbHJ3iU8iSM"
      },
      "execution_count": 12,
      "outputs": []
    },
    {
      "cell_type": "code",
      "source": [
        "from google.colab import files\n",
        "\n",
        "files.download('/content/VGG16_transfer_learning_model.pth')"
      ],
      "metadata": {
        "id": "n5-8gt3C_Hkk"
      },
      "execution_count": null,
      "outputs": []
    },
    {
      "cell_type": "code",
      "source": [],
      "metadata": {
        "id": "OrI00SXX_tb3"
      },
      "execution_count": null,
      "outputs": []
    }
  ]
}